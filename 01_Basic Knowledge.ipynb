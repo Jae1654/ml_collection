{
 "cells": [
  {
   "cell_type": "markdown",
   "id": "db8872a9-39b6-4118-8108-abbe668fe00b",
   "metadata": {},
   "source": [
    "# 1. Types of Machine Learning Systems"
   ]
  },
  {
   "cell_type": "markdown",
   "id": "9a2006b4-7136-4360-ac88-f87ee7543f62",
   "metadata": {},
   "source": [
    "### 1.1 Supervised Learning\n",
    "- A ML system is Supervised if  the training data has labels or targets. In other words, We have both X, y for training set.\n",
    "- ***Regressions*** and ***Classification***"
   ]
  },
  {
   "cell_type": "markdown",
   "id": "3e01e6d1-dd6e-4d9f-8700-306b00ac7330",
   "metadata": {},
   "source": [
    "### 1.2 Unsupervised Learning\n",
    "- A ML system is Unsupervised if the training data doesn't have labels.\n",
    "- ***Clustering***, ***Visualization*** and ***Dimension reduction***\n",
    "    1. ***Clustering***: Cluster data into small groups\n",
    "    2. ***Visualization***: Represent High-dimensional data to visualize pattern.\n",
    "    3. ***Dimension reduction***: Simplify High-dimensional data with minizing the loss of information. It fuses correlated features into one feature\n"
   ]
  },
  {
   "cell_type": "markdown",
   "id": "2a7d689d-a78c-4812-b557-c393b65e4d8d",
   "metadata": {},
   "source": [
    "### 1.3 Batch Learning\n",
    "- A ML system is Batch Learning if the whole training data is used to train the model and no extra training perforemd\n",
    "- Takes many resources and times to train\n",
    "- A model will remain the same onces it's trained, so performace in the future might be unpromising.\n",
    "- Often called ***Offline Learning***"
   ]
  },
  {
   "cell_type": "markdown",
   "id": "fcc33d85-0ea5-4e9f-967b-6155d36723c3",
   "metadata": {},
   "source": [
    "### 1.4 Online Learning\n",
    "- A ML system is online learning if small set of data is trained continusouly.\n",
    "- Each training step is fast and efficient in training.\n",
    "- Appropriate for stock price prediction, financial modelling or limited computing resouce is provided\n"
   ]
  },
  {
   "cell_type": "markdown",
   "id": "0fb429d7-0ce2-44cd-8c33-fa43313e2653",
   "metadata": {},
   "source": [
    "# 2. List to check when developing models"
   ]
  },
  {
   "cell_type": "markdown",
   "id": "7f0a967c-2d6f-4aeb-b575-b2310e652e8e",
   "metadata": {},
   "source": [
    "### 2.1 Data\n",
    "- Obtain large enough data\n",
    "- Check if training data represent the whole data (Bias in sample)\n",
    "- Low quality data (outliers, noise)\n",
    "- Irrelevant Data "
   ]
  },
  {
   "cell_type": "markdown",
   "id": "9a41950e-c8eb-4a35-b034-4a1b4df61647",
   "metadata": {},
   "source": [
    "### 2.2 Training models\n",
    "- Overfitting(Regulartization)\n",
    "- Underfitting"
   ]
  },
  {
   "cell_type": "markdown",
   "id": "a16e49d0-37d6-4516-9822-2b136b594010",
   "metadata": {},
   "source": [
    "### 2.3 Test and Validation\n",
    "- Splite data into three parts\n",
    "  1. ***Training set***: Train multiple models\n",
    "  2. ***Development set***: Sample from the training set to evaluate models. After select the best model, put this sample back into the training set to train the best model\n",
    "  3. ***Test set****: Final evaluation of the best model"
   ]
  },
  {
   "cell_type": "code",
   "execution_count": null,
   "id": "2bda0344-c496-4bcd-99f3-2dd8fb0ecbac",
   "metadata": {},
   "outputs": [],
   "source": []
  }
 ],
 "metadata": {
  "kernelspec": {
   "display_name": "Python 3 (ipykernel)",
   "language": "python",
   "name": "python3"
  },
  "language_info": {
   "codemirror_mode": {
    "name": "ipython",
    "version": 3
   },
   "file_extension": ".py",
   "mimetype": "text/x-python",
   "name": "python",
   "nbconvert_exporter": "python",
   "pygments_lexer": "ipython3",
   "version": "3.10.12"
  }
 },
 "nbformat": 4,
 "nbformat_minor": 5
}
